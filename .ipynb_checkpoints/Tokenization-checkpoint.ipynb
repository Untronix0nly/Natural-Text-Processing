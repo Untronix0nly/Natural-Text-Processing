{
 "cells": [
  {
   "cell_type": "markdown",
   "metadata": {},
   "source": [
    "# Токенизация"
   ]
  },
  {
   "cell_type": "markdown",
   "metadata": {},
   "source": [
    "## Импорт библиотек"
   ]
  },
  {
   "cell_type": "code",
   "execution_count": 2,
   "metadata": {},
   "outputs": [],
   "source": [
    "import numpy as np\n",
    "import re\n",
    "import string\n",
    "import os\n",
    "import regex"
   ]
  },
  {
   "cell_type": "markdown",
   "metadata": {},
   "source": [
    "## Путь к файлам"
   ]
  },
  {
   "cell_type": "code",
   "execution_count": 3,
   "metadata": {},
   "outputs": [],
   "source": [
    "data_path = \"../data/text/\""
   ]
  },
  {
   "cell_type": "markdown",
   "metadata": {},
   "source": [
    "## Проработка шаблонов для различных случаев данных"
   ]
  },
  {
   "cell_type": "code",
   "execution_count": 31,
   "metadata": {},
   "outputs": [],
   "source": [
    "number_regex_2 = r\"^\\s*(?:\\+?(\\d{1,3}))?[-. (]*(\\d{3})[-. )]*(\\d{3})[-. ]*(\\d{4})(?: *x(\\d+))?\\s*$\"\n",
    "words = r\"\\w+\"\n",
    "slash_splitted_pattern = r\"^(\\w+)(-)?(\\w+)\"\n",
    "date_tokenizator = r'(\\d{2,4})(-|/)(\\d{2})(-|/)(\\d{2,4})'\n",
    "digits = r\"\\d+\"\n",
    "lst_regex = [number_regex_2,words,slash_splitted_pattern,date_tokenizator,digits]"
   ]
  },
  {
   "cell_type": "markdown",
   "metadata": {},
   "source": [
    "## Regex tokenization"
   ]
  },
  {
   "cell_type": "raw",
   "metadata": {},
   "source": [
    "В данном подходе присутствуют следующие минусы: \n",
    "    1) Не учитывается \"-\" как знак препинания\n",
    "    2) Чувствительность к формату дат (рассмотрены лишь некоторые аспекты), также не учитывается неккоректность данных\n",
    "    3) Чувствительность к формату чисел\n",
    "    4) Для теста, я не преобразовывал из сетов не стакал их содержимое, так как я замерял скорость непосредственно разбиения\n",
    "    5) Есть вероятность повтороения чисел (номера, даты состоят из чисел)\n",
    "    6) Не учитывается другие возможные случаи токенов\n",
    "    7) Примитивность\n",
    "В моем случае мне повезло, также я заметил в ходе работы что при парсинге произошло повреждение данных\n",
    "    Нужно учитывать при оценке скорости:\n",
    "    1) первое обращение к директории для обращения к списку файлов\n",
    "    2) Прохождение по файлам\n",
    "    3) Скорость чтения/записи\n",
    "    "
   ]
  },
  {
   "cell_type": "code",
   "execution_count": 5,
   "metadata": {},
   "outputs": [],
   "source": [
    "def tokenization(strings,lst_regexes):\n",
    "    tokens = list()\n",
    "    for string in strings:\n",
    "        for reg in lst_regexes:\n",
    "            tokens.extend(re.findall(pattern = reg,string = string))\n",
    "    return tokens"
   ]
  },
  {
   "cell_type": "markdown",
   "metadata": {},
   "source": [
    "## Проведение записи в файл, замер времени"
   ]
  },
  {
   "cell_type": "code",
   "execution_count": 8,
   "metadata": {},
   "outputs": [
    {
     "name": "stdout",
     "output_type": "stream",
     "text": [
      "Wall time: 6min 49s\n"
     ]
    }
   ],
   "source": [
    "%%time\n",
    "os.makedirs(\"../data/stopwords\")\n",
    "with open(\"../data/stopwords/\" + \"stops.txt\",\"w\",encoding = 'utf-8') as main_stream:\n",
    "    tokens = list()\n",
    "    for file in os.listdir(data_path):\n",
    "        with open(data_path + file,'r',encoding = \"utf-8\") as stream:\n",
    "               main_stream.write(str(tokenization(stream,lst_regex)))"
   ]
  }
 ],
 "metadata": {
  "kernelspec": {
   "display_name": "Python 3",
   "language": "python",
   "name": "python3"
  },
  "language_info": {
   "codemirror_mode": {
    "name": "ipython",
    "version": 3
   },
   "file_extension": ".py",
   "mimetype": "text/x-python",
   "name": "python",
   "nbconvert_exporter": "python",
   "pygments_lexer": "ipython3",
   "version": "3.6.5"
  }
 },
 "nbformat": 4,
 "nbformat_minor": 2
}
